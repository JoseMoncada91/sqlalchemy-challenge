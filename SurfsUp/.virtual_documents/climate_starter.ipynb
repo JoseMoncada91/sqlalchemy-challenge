%matplotlib inline
from matplotlib import style
style.use('fivethirtyeight')
import matplotlib.pyplot as plt


import numpy as np
import pandas as pd
import datetime as dt





# Python SQL toolkit and Object Relational Mapper
import sqlalchemy
from sqlalchemy.ext.automap import automap_base
from sqlalchemy.orm import Session
from sqlalchemy import create_engine, func
from sqlalchemy import inspect


# create engine to hawaii.sqlite
engine = create_engine("sqlite:///Resources/hawaii.sqlite")


# reflect an existing database into a new model
Base = automap_base()

# reflect the tables
Base.prepare(autoload_with=engine)


# View all of the classes that automap found
print(Base.classes.keys())


# Save references to each table
Measurement = Base.classes.measurement
Station = Base.classes.station


# Create our session (link) from Python to the DB
session = Session(engine)





# Find the most recent date in the data set.
most_recent_date = session.query(func.max(Measurement.date)).first()
print(most_recent_date)


# Convert most recent date to datetime object and calculate one year before
most_recent_date_dt = dt.datetime.strptime(most_recent_date[0], "%Y-%m-%d")
one_year_before = most_recent_date_dt - dt.timedelta(days=365)

# Design a query to retrieve the last 12 months of precipitation data and plot the results. 
precipitation_data = session.query(Measurement.date, Measurement.prcp).filter(Measurement.date >= one_year_before).all()


# Design a query to retrieve the last 12 months of precipitation data and plot the results. 
# Starting from the most recent data point in the database. 
most_recent_date = most_recent_date[0]
most_recent_date = dt.datetime.strptime(most_recent_date, "%Y-%m-%d")

# Calculate the date one year from the last date in data set.
one_year_ago = most_recent_date - dt.timedelta(days=365)

# Perform a query to retrieve the data and precipitation scores
results = session.query(Measurement.date, Measurement.prcp).\
    filter(Measurement.date >= one_year_ago.strftime("%Y-%m-%d")).\
    order_by(Measurement.date).all()

# Save the query results as a Pandas DataFrame. Explicitly set the column names
df = pd.DataFrame(results, columns=["Date", "Precipitation"])

# Sort the dataframe by date
df["Date"] = pd.to_datetime(df["Date"])  # Ensure the date column is in datetime format
df.sort_values("Date", inplace=True)

# Use Pandas Plotting with Matplotlib to plot the data
plt.figure(figsize=(10, 6))
plt.plot(df["Date"], df["Precipitation"], label="Precipitation", color='blue')
plt.title("Precipitation in the Last 12 Months")
plt.xlabel("Date")
plt.ylabel("Precipitation (inches)")
plt.xticks(rotation=45)
plt.tight_layout()
plt.show()





# Design a query to calculate the total number of stations in the dataset
total_stations = session.query(func.count(Station.station)).scalar()
print(f"Total number of stations in the dataset: {total_stations}")


# Design a query to find the most active stations (i.e. which stations have the most rows?)
# List the stations and their counts in descending order.
active_stations = session.query(Measurement.station, func.count(Measurement.station).label("station_count"))\
    .group_by(Measurement.station)\
    .order_by(func.count(Measurement.station).desc()).all()

# Print the stations and their counts in descending order
for station, count in active_stations:
    print(f"Station: {station}, Count: {count}")


# Using the most active station id from the previous query, calculate the lowest, highest, and average temperature.
# Let's assume the most active station ID is the first station in the list from the previous query
most_active_station_id = active_stations[0][0]

# Step 2: Query to calculate the lowest, highest, and average temperature for the most active station
temperature_stats = session.query(
    func.min(Measurement.tobs).label("lowest_temp"),
    func.max(Measurement.tobs).label("highest_temp"),
    func.avg(Measurement.tobs).label("avg_temp")
).filter(Measurement.station == most_active_station_id).all()

# Print the results
lowest_temp, highest_temp, avg_temp = temperature_stats[0]
print(f"Most Active Station: {most_active_station_id}")
print(f"Lowest Temperature: {lowest_temp}°F")
print(f"Highest Temperature: {highest_temp}°F")
print(f"Average Temperature: {avg_temp:.2f}°F")


# Using the most active station id
# Query the last 12 months of temperature observation data for this station and plot the results as a histogram
# Step 1: Retrieve the most active station ID from the previous query
most_active_station_id = active_stations[0][0]

# Step 2: Calculate the date one year ago from the most recent date
# most_recent_date is already a datetime object, so no need to index it
# Remove the line most_recent_date = most_recent_date[0] - it's unnecessary

# Calculate one year ago from the most recent date
one_year_ago = most_recent_date - dt.timedelta(days=365)

# Step 3: Query the last 12 months of temperature observation data for the most active station
temperature_data = session.query(Measurement.tobs).\
    filter(Measurement.station == most_active_station_id).\
    filter(Measurement.date >= one_year_ago.strftime("%Y-%m-%d")).\
    order_by(Measurement.date).all()

# Step 4: Save the query results as a Pandas DataFrame
df_temperature = pd.DataFrame(temperature_data, columns=["Temperature"])

# Step 5: Plot the results as a histogram
plt.figure(figsize=(10, 6))
plt.hist(df_temperature["Temperature"], bins=12, color='blue', edgecolor='black')
plt.title(f"Temperature Observations for Station {most_active_station_id} - Last 12 Months")
plt.xlabel("Temperature (°F)")
plt.ylabel("Frequency")
plt.tight_layout()
plt.show()





# Close Session
session.close()



